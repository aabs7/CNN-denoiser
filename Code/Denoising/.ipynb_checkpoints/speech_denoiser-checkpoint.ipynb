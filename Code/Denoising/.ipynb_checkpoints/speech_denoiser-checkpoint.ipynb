{
 "cells": [
  {
   "cell_type": "code",
   "execution_count": 2,
   "metadata": {},
   "outputs": [
    {
     "ename": "SystemError",
     "evalue": "GPU device not found",
     "output_type": "error",
     "traceback": [
      "\u001b[0;31m---------------------------------------------------------------------------\u001b[0m",
      "\u001b[0;31mSystemError\u001b[0m                               Traceback (most recent call last)",
      "\u001b[0;32m<ipython-input-2-d1680108c58e>\u001b[0m in \u001b[0;36m<module>\u001b[0;34m\u001b[0m\n\u001b[1;32m      2\u001b[0m \u001b[0mdevice_name\u001b[0m \u001b[0;34m=\u001b[0m \u001b[0mtf\u001b[0m\u001b[0;34m.\u001b[0m\u001b[0mtest\u001b[0m\u001b[0;34m.\u001b[0m\u001b[0mgpu_device_name\u001b[0m\u001b[0;34m(\u001b[0m\u001b[0;34m)\u001b[0m\u001b[0;34m\u001b[0m\u001b[0;34m\u001b[0m\u001b[0m\n\u001b[1;32m      3\u001b[0m \u001b[0;32mif\u001b[0m \u001b[0mdevice_name\u001b[0m \u001b[0;34m!=\u001b[0m \u001b[0;34m'/device:GPU:0'\u001b[0m\u001b[0;34m:\u001b[0m\u001b[0;34m\u001b[0m\u001b[0;34m\u001b[0m\u001b[0m\n\u001b[0;32m----> 4\u001b[0;31m   \u001b[0;32mraise\u001b[0m \u001b[0mSystemError\u001b[0m\u001b[0;34m(\u001b[0m\u001b[0;34m'GPU device not found'\u001b[0m\u001b[0;34m)\u001b[0m\u001b[0;34m\u001b[0m\u001b[0;34m\u001b[0m\u001b[0m\n\u001b[0m\u001b[1;32m      5\u001b[0m \u001b[0mprint\u001b[0m\u001b[0;34m(\u001b[0m\u001b[0;34m'Found GPU at: {}'\u001b[0m\u001b[0;34m.\u001b[0m\u001b[0mformat\u001b[0m\u001b[0;34m(\u001b[0m\u001b[0mdevice_name\u001b[0m\u001b[0;34m)\u001b[0m\u001b[0;34m)\u001b[0m\u001b[0;34m\u001b[0m\u001b[0;34m\u001b[0m\u001b[0m\n",
      "\u001b[0;31mSystemError\u001b[0m: GPU device not found"
     ]
    }
   ],
   "source": [
    "import tensorflow as tf\n",
    "device_name = tf.test.gpu_device_name()\n",
    "if device_name != '/device:GPU:0':\n",
    "  raise SystemError('GPU device not found')\n",
    "print('Found GPU at: {}'.format(device_name))"
   ]
  },
  {
   "cell_type": "code",
   "execution_count": 9,
   "metadata": {},
   "outputs": [
    {
     "name": "stdout",
     "output_type": "stream",
     "text": [
      "The tensorboard extension is already loaded. To reload it, use:\n",
      "  %reload_ext tensorboard\n"
     ]
    }
   ],
   "source": [
    "import librosa\n",
    "import pandas as pd\n",
    "import os\n",
    "import matplotlib.pyplot as plt\n",
    "import numpy as np\n",
    "import tensorflow as tf\n",
    "import IPython.display as ipd\n",
    "import librosa.display\n",
    "import scipy\n",
    "import glob\n",
    "import os\n",
    "\n",
    "# load the tensorboard notebook extension\n",
    "%load_ext tensorboard"
   ]
  },
  {
   "cell_type": "code",
   "execution_count": 6,
   "metadata": {},
   "outputs": [
    {
     "data": {
      "text/plain": [
       "[name: \"/device:CPU:0\"\n",
       " device_type: \"CPU\"\n",
       " memory_limit: 268435456\n",
       " locality {\n",
       " }\n",
       " incarnation: 14747212977070109024,\n",
       " name: \"/device:XLA_CPU:0\"\n",
       " device_type: \"XLA_CPU\"\n",
       " memory_limit: 17179869184\n",
       " locality {\n",
       " }\n",
       " incarnation: 950328336918222465\n",
       " physical_device_desc: \"device: XLA_CPU device\"]"
      ]
     },
     "execution_count": 6,
     "metadata": {},
     "output_type": "execute_result"
    }
   ],
   "source": [
    "from tensorflow.python.client import device_lib\n",
    "device_lib.list_local_devices()"
   ]
  },
  {
   "cell_type": "code",
   "execution_count": 7,
   "metadata": {},
   "outputs": [],
   "source": [
    "tf.random.set_seed(999)\n",
    "np.random.seed(999)"
   ]
  },
  {
   "cell_type": "code",
   "execution_count": 14,
   "metadata": {},
   "outputs": [],
   "source": [
    "path_to_dataset = \"/home/abhish/Documents/CED Denoising/Code/records/\""
   ]
  },
  {
   "cell_type": "code",
   "execution_count": 18,
   "metadata": {},
   "outputs": [
    {
     "name": "stdout",
     "output_type": "stream",
     "text": [
      "Training file names: ['/home/abhish/Documents/CED Denoising/Code/records/train_1.tfrecords', '/home/abhish/Documents/CED Denoising/Code/records/train_0.tfrecords', '/home/abhish/Documents/CED Denoising/Code/records/train_2.tfrecords', '/home/abhish/Documents/CED Denoising/Code/records/train_3.tfrecords']\n",
      "Validation file names: ['/home/abhish/Documents/CED Denoising/Code/records/val_0.tfrecords']\n"
     ]
    }
   ],
   "source": [
    "# get training and validation tf record file names\n",
    "train_tfrecords_filenames = glob.glob(os.path.join(path_to_dataset,'train_*'))\n",
    "val_tfrecords_filenames = glob.glob(os.path.join(path_to_dataset,'val_*'))\n",
    "\n",
    "# shuffle the file names for training\n",
    "np.random.shuffle(train_tfrecords_filenames)\n",
    "print(\"Training file names:\",train_tfrecords_filenames)\n",
    "print(\"Validation file names:\", val_tfrecords_filenames)"
   ]
  },
  {
   "cell_type": "code",
   "execution_count": 19,
   "metadata": {},
   "outputs": [
    {
     "name": "stdout",
     "output_type": "stream",
     "text": [
      "windowLength: 256\n",
      "overlap: 64\n",
      "ffTLength: 256\n",
      "inputFs: 48000.0\n",
      "fs: 16000.0\n",
      "numFeatures: 129\n",
      "numSegments: 8\n"
     ]
    }
   ],
   "source": [
    "# Parameters about window and audio\n",
    "windowLength = 256\n",
    "overlap = round(0.25 * windowLength) #overlap of 75%\n",
    "fftLength = windowLength\n",
    "inputFs = 48e3\n",
    "fs = 16e3\n",
    "numFeatures = fftLength//2 + 1\n",
    "numSegments = 8\n",
    "print(\"windowLength:\",windowLength)\n",
    "print(\"overlap:\",overlap)\n",
    "print(\"ffTLength:\",fftLength)\n",
    "print(\"inputFs:\",inputFs)\n",
    "print(\"fs:\",fs)\n",
    "print(\"numFeatures:\",numFeatures)\n",
    "print(\"numSegments:\",numSegments)"
   ]
  },
  {
   "cell_type": "code",
   "execution_count": 20,
   "metadata": {},
   "outputs": [],
   "source": [
    "mozilla_basepath = '/home/abhish/Documents/Dataset/MozillaDataset'\n",
    "urbansound_basepath = '/home/abhish/Documents/Dataset/UrbanSound8K'"
   ]
  },
  {
   "cell_type": "markdown",
   "metadata": {},
   "source": [
    "## Prepare Input Features"
   ]
  },
  {
   "cell_type": "code",
   "execution_count": 21,
   "metadata": {},
   "outputs": [],
   "source": [
    "def tf_record_parser(record):\n",
    "    keys_to_features = {\n",
    "        \"noise_stft_phase\": tf.io.FixedLenFeature((),tf.string,default_value = \"\"),\n",
    "        \"noise_stft_mag_features\": tf.io.FixedLenFeature([],tf.string),\n",
    "        \"clean_stft_magnitude\": tf.io.FixedLenFeature((),tf.string)\n",
    "    }\n",
    "    \n",
    "    features = tf.io.parse_single_example(record,keys_to_features)\n",
    "    \n",
    "    noise_stft_mag_features = tf.io.decode_raw(features['noise_stft_mag_features'],tf.float32)\n",
    "    clean_stft_magnitude = tf.io.decode_raw(features['clean_stft_magnitude'],tf.float32)\n",
    "    noise_stft_phase = tf.io.decode_raw(features['noise_stft_phase'],tf.float32)\n",
    "    \n",
    "    # reshape input and annotation images\n",
    "    noise_stft_mag_features = tf.reshape(noise_stft_mag_features,(129,8,1),name = \"noise_stft_mag_features\")\n",
    "    clean_stft_magnitude = tf.reshape(clean_stft_magnitude,(129,1,1),name = \"clean_stft_magnitude\")\n",
    "    noise_stft_phase = tf.reshape(noise_stft_phase,(129,),name = \"noise_stft_phase\")\n",
    "    \n",
    "    return noise_stft_mag_features,clean_stft_magnitude"
   ]
  },
  {
   "cell_type": "markdown",
   "metadata": {},
   "source": [
    "## Create tf.Data.Dataset"
   ]
  },
  {
   "cell_type": "code",
   "execution_count": 35,
   "metadata": {},
   "outputs": [],
   "source": [
    "train_dataset = tf.data.TFRecordDataset([train_tfrecords_filenames])\n",
    "train_dataset = train_dataset.map(tf_record_parser)\n",
    "train_dataset = train_dataset.shuffle(buffer_size = 50)\n",
    "train_dataset = train_dataset.repeat()\n",
    "train_dataset = train_dataset.batch(32)\n",
    "train_dataset = train_dataset.prefetch(buffer_size = tf.data.experimental.AUTOTUNE)"
   ]
  },
  {
   "cell_type": "code",
   "execution_count": 46,
   "metadata": {},
   "outputs": [
    {
     "name": "stdout",
     "output_type": "stream",
     "text": [
      "<TakeDataset shapes: ((None, 129, 8, 1), (None, 129, 1, 1)), types: (tf.float32, tf.float32)>\n"
     ]
    }
   ],
   "source": [
    "# explore dataset\n",
    "print(train_dataset.take(1))"
   ]
  },
  {
   "cell_type": "code",
   "execution_count": 40,
   "metadata": {},
   "outputs": [],
   "source": [
    "test_dataset = tf.data.TFRecordDataset([val_tfrecords_filenames])\n",
    "test_dataset = test_dataset.map(tf_record_parser)\n",
    "test_dataset = test_dataset.repeat(1)\n",
    "test_dataset = test_dataset.batch(32)"
   ]
  },
  {
   "cell_type": "markdown",
   "metadata": {},
   "source": [
    "## Model Training"
   ]
  },
  {
   "cell_type": "code",
   "execution_count": 49,
   "metadata": {},
   "outputs": [],
   "source": [
    "from tensorflow.keras.layers import Conv2D, Input, LeakyReLU, Flatten, Dense, Reshape, Conv2DTranspose, BatchNormalization, Activation\n",
    "from tensorflow.keras import Model, Sequential"
   ]
  },
  {
   "cell_type": "code",
   "execution_count": 51,
   "metadata": {},
   "outputs": [],
   "source": [
    "def conv_block(x,filters,kernel_size,strides,padding = 'same',use_bn = True):\n",
    "    x = Conv2D(filters = filters, \n",
    "               kernel_size = kernel_size, \n",
    "               strides = strides, \n",
    "               padding = padding, \n",
    "               use_bias = False,\n",
    "               kernel_regularizer = tf.keras.regularizers.l2(0.0006)\n",
    "              )(x)\n",
    "    \n",
    "    x = Activation('relu')(x)\n",
    "    if use_bn:\n",
    "        x = BatchNormalization()(x)\n",
    "    return x"
   ]
  },
  {
   "cell_type": "code",
   "execution_count": 53,
   "metadata": {},
   "outputs": [],
   "source": [
    "def full_pre_activation_block(x,filters,kernel_size,strides,padding='same',use_bn = True):\n",
    "    shortcut = x\n",
    "    in_channels = x.shape[-1]\n",
    "    \n",
    "    x = BatchNormalization()(x)\n",
    "    x = Activation('relu')(x)\n",
    "    x = Conv2D(filter = filters,\n",
    "               kernel_size = kernel_size,\n",
    "               strides = strides,\n",
    "               padding = 'same'\n",
    "              )(x)\n",
    "    \n",
    "    x = BatchNormalization()(x)\n",
    "    x = Activation('relu')(x)\n",
    "    x = Conv2D(filters = in_channels,\n",
    "               kernel_size = kernel_size,\n",
    "               strides = strides,\n",
    "               padding = 'same'\n",
    "              )(x)\n",
    "    \n",
    "    return shortcut + x"
   ]
  },
  {
   "cell_type": "code",
   "execution_count": null,
   "metadata": {},
   "outputs": [],
   "source": [
    "def build model(l2_strength):\n",
    "    inputs = Input(shape = [numFeatures,numSegments,1])\n",
    "    x = inputs\n",
    "    x = tf.keras.layers.ZeroPadding2D(((4,4),(0,0)))(x)\n",
    "    \n",
    "    #-----------------------------------------------------------\n",
    "    \n",
    "    x = Conv2D(filters = 18,\n",
    "              kernel_size = [9,8],\n",
    "              strides = [1,1],\n",
    "              padding = 'valid',\n",
    "              use_bias = False,\n",
    "              kernel_regularizer = tf.keras.regularizers.l2(l2_strength)\n",
    "              )(x)\n",
    "    x = Activation('relu')(x)\n",
    "    x = BatchNormalizaiton()(x)\n",
    "    \n",
    "    skip0 = Conv2D(filters = 30,\n",
    "                   kernel_size = [5,1],\n",
    "                   strides = [1,1],\n",
    "                   padding = 'same',\n",
    "                   use_bin = False,\n",
    "                   kernel_regularizer = tf.keras.regularizers.l2(l2_strength)\n",
    "                  )(x)\n",
    "    x = Activation('relu')(skip0)\n",
    "    x = BatchNormalization()(x)\n",
    "    \n",
    "    x = Conv2D(filters = 8,\n",
    "              kernel_size = [9,1],\n",
    "              strides = [1,1],\n",
    "              padding = 'same',\n",
    "              use_bias = False,\n",
    "              kernel_regularizer = tf.keras.regularizers.l2(l2_strength)\n",
    "              )(x)\n",
    "    x = Activation('relu')(x)\n",
    "    x = BatchNormalizaiton()(x)\n",
    "    \n",
    "    #----------------------------------------------------------\n",
    "    \n",
    "    x = Conv2D(filters = 18,\n",
    "              kernel_size = [9,1],\n",
    "              strides = [1,1],\n",
    "              padding = 'same',\n",
    "              use_bias = False,\n",
    "              kernel_regularizer = tf.keras.regularizers.l2(l2_strength)\n",
    "              )(x)\n",
    "    x = Activation('relu')(x)\n",
    "    x = BatchNormalizaiton()(x)\n",
    "    \n",
    "    skip1 = Conv2D(filters = 30,\n",
    "                   kernel_size = [5,1],\n",
    "                   strides = [1,1],\n",
    "                   padding = 'same',\n",
    "                   use_bin = False,\n",
    "                   kernel_regularizer = tf.keras.regularizers.l2(l2_strength)\n",
    "                  )(x)\n",
    "    x = Activation('relu')(skip1)\n",
    "    x = BatchNormalization()(x)\n",
    "    \n",
    "    x = Conv2D(filters = 8,\n",
    "              kernel_size = [9,1],\n",
    "              strides = [1,1],\n",
    "              padding = 'same',\n",
    "              use_bias = False,\n",
    "              kernel_regularizer = tf.keras.regularizers.l2(l2_strength)\n",
    "              )(x)\n",
    "    x = Activation('relu')(x)\n",
    "    x = BatchNormalizaiton()(x)\n",
    "    \n",
    "    #----------------------------------------------------------\n",
    "    \n",
    "    x = Conv2D(filters = 18,\n",
    "              kernel_size = [9,1],\n",
    "              strides = [1,1],\n",
    "              padding = 'same',\n",
    "              use_bias = False,\n",
    "              kernel_regularizer = tf.keras.regularizers.l2(l2_strength)\n",
    "              )(x)\n",
    "    x = Activation('relu')(x)\n",
    "    x = BatchNormalizaiton()(x)\n",
    "    \n",
    "    x = Conv2D(filters = 30,\n",
    "              kernel_size = [5,1],\n",
    "              strides = [1,1],\n",
    "              padding = 'same',\n",
    "              use_bin = False,\n",
    "              kernel_regularizer = tf.keras.regularizers.l2(l2_strength)\n",
    "              )(x)\n",
    "    x = Activation('relu')(x)\n",
    "    x = BatchNormalization()(x)\n",
    "    \n",
    "    x = Conv2D(filters = 8,\n",
    "              kernel_size = [9,1],\n",
    "              strides = [1,1],\n",
    "              padding = 'same',\n",
    "              use_bias = False,\n",
    "              kernel_regularizer = tf.keras.regularizers.l2(l2_strength)\n",
    "              )(x)\n",
    "    x = Activation('relu')(x)\n",
    "    x = BatchNormalizaiton()(x)\n",
    "    \n",
    "    #----------------------------------------------------------\n",
    "    \n",
    "    x = Conv2D(filters = 18,\n",
    "              kernel_size = [9,1],\n",
    "              strides = [1,1],\n",
    "              padding = 'same',\n",
    "              use_bias = False,\n",
    "              kernel_regularizer = tf.keras.regularizers.l2(l2_strength)\n",
    "              )(x)\n",
    "    x = Activation('relu')(x)\n",
    "    x = BatchNormalizaiton()(x)\n",
    "    \n",
    "    x = Conv2D(filters = 30,\n",
    "              kernel_size = [5,1],\n",
    "              strides = [1,1],\n",
    "              padding = 'same',\n",
    "              use_bin = False,\n",
    "              kernel_regularizer = tf.keras.regularizers.l2(l2_strength)\n",
    "              )(x)\n",
    "    \n",
    "    x = x + skip1\n",
    "    \n",
    "    x = Activation('relu')(x)\n",
    "    x = BatchNormalization()(x)\n",
    "    \n",
    "    x = Conv2D(filters = 8,\n",
    "              kernel_size = [9,1],\n",
    "              strides = [1,1],\n",
    "              padding = 'same',\n",
    "              use_bias = False,\n",
    "              kernel_regularizer = tf.keras.regularizers.l2(l2_strength)\n",
    "              )(x)\n",
    "    x = Activation('relu')(x)\n",
    "    x = BatchNormalizaiton()(x)\n",
    "    \n",
    "    #----------------------------------------------------------\n",
    "    \n",
    "    x = Conv2D(filters = 18,\n",
    "              kernel_size = [9,1],\n",
    "              strides = [1,1],\n",
    "              padding = 'same',\n",
    "              use_bias = False,\n",
    "              kernel_regularizer = tf.keras.regularizers.l2(l2_strength)\n",
    "              )(x)\n",
    "    x = Activation('relu')(x)\n",
    "    x = BatchNormalizaiton()(x)\n",
    "    \n",
    "    x = Conv2D(filters = 30,\n",
    "              kernel_size = [5,1],\n",
    "              strides = [1,1],\n",
    "              padding = 'same',\n",
    "              use_bin = False,\n",
    "              kernel_regularizer = tf.keras.regularizers.l2(l2_strength)\n",
    "              )(x)\n",
    "    \n",
    "    x = x + skip0\n",
    "    \n",
    "    x = Activation('relu')(x)\n",
    "    x = BatchNormalization()(x)\n",
    "    \n",
    "    x = Conv2D(filters = 8,\n",
    "              kernel_size = [9,1],\n",
    "              strides = [1,1],\n",
    "              padding = 'same',\n",
    "              use_bias = False,\n",
    "              kernel_regularizer = tf.keras.regularizers.l2(l2_strength)\n",
    "              )(x)\n",
    "    x = Activation('relu')(x)\n",
    "    x = BatchNormalizaiton()(x)\n",
    "    \n",
    "    #----------------------------------------------------------\n",
    "    \n",
    "    \n",
    "    "
   ]
  }
 ],
 "metadata": {
  "kernelspec": {
   "display_name": "Python 3",
   "language": "python",
   "name": "python3"
  },
  "language_info": {
   "codemirror_mode": {
    "name": "ipython",
    "version": 3
   },
   "file_extension": ".py",
   "mimetype": "text/x-python",
   "name": "python",
   "nbconvert_exporter": "python",
   "pygments_lexer": "ipython3",
   "version": "3.8.5"
  }
 },
 "nbformat": 4,
 "nbformat_minor": 4
}
